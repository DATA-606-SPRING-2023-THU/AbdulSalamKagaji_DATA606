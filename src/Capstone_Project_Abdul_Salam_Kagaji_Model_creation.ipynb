{
  "cells": [
    {
      "attachments": {},
      "cell_type": "markdown",
      "metadata": {},
      "source": [
        "### importing Libraries"
      ]
    },
    {
      "cell_type": "code",
      "execution_count": 11,
      "metadata": {
        "id": "MsJY3lTDtXB-"
      },
      "outputs": [],
      "source": [
        "%matplotlib inline\n",
        "import pandas as pd\n",
        "import numpy as np\n",
        "from matplotlib import pyplot as plt\n",
        "plt.style.use('ggplot')\n",
        "\n",
        "import seaborn as sns\n",
        "color = sns.color_palette()\n",
        "sns.set(rc={'figure.figsize':(25,15)})\n",
        "\n",
        "import plotly as px\n",
        "import plotly.graph_objs as go\n",
        "\n",
        "import plotly.figure_factory as ff\n",
        "\n",
        "from sklearn.model_selection import train_test_split\n",
        "from sklearn.feature_extraction.text import CountVectorizer, TfidfVectorizer\n",
        "from sklearn.linear_model import SGDClassifier\n",
        "from sklearn.pipeline import Pipeline\n",
        "from sklearn.feature_extraction.text import TfidfTransformer\n",
        "from sklearn.model_selection import GridSearchCV\n",
        "\n",
        "\n",
        "import math\n",
        "import pickle\n",
        "import re\n",
        "from collections import Counter\n",
        "\n",
        "\n",
        "\n",
        "import warnings\n",
        "warnings.filterwarnings('ignore')\n"
      ]
    },
    {
      "attachments": {},
      "cell_type": "markdown",
      "metadata": {},
      "source": [
        "### loading datasets"
      ]
    },
    {
      "cell_type": "code",
      "execution_count": 12,
      "metadata": {
        "colab": {
          "base_uri": "https://localhost:8080/",
          "height": 1000
        },
        "id": "QfxTT8RltfIn",
        "outputId": "23c4faf3-9949-45be-edc8-914f807e09c0"
      },
      "outputs": [],
      "source": [
        "\n",
        "appDf = pd.read_csv('https://raw.githubusercontent.com/abdulSalamKagaji97/AbdulSalamKagaji_DATA606/main/data/apps.csv')\n",
        "appDescDf = pd.read_csv('https://raw.githubusercontent.com/abdulSalamKagaji97/AbdulSalamKagaji_DATA606/main/data/AppDescriptions.csv')\n",
        "\n",
        "# merging two datasets based on App name\n",
        "\n",
        "mergeDf = appDf.merge(appDescDf,on=\"App\") \n"
      ]
    },
    {
      "attachments": {},
      "cell_type": "markdown",
      "metadata": {},
      "source": [
        "### feature selection"
      ]
    },
    {
      "cell_type": "code",
      "execution_count": 13,
      "metadata": {
        "colab": {
          "base_uri": "https://localhost:8080/",
          "height": 1000
        },
        "id": "ELd7bQ7auILL",
        "outputId": "7706906b-30fe-4b45-b7af-e04281082ff9"
      },
      "outputs": [
        {
          "data": {
            "text/html": [
              "<div>\n",
              "<style scoped>\n",
              "    .dataframe tbody tr th:only-of-type {\n",
              "        vertical-align: middle;\n",
              "    }\n",
              "\n",
              "    .dataframe tbody tr th {\n",
              "        vertical-align: top;\n",
              "    }\n",
              "\n",
              "    .dataframe thead th {\n",
              "        text-align: right;\n",
              "    }\n",
              "</style>\n",
              "<table border=\"1\" class=\"dataframe\">\n",
              "  <thead>\n",
              "    <tr style=\"text-align: right;\">\n",
              "      <th></th>\n",
              "      <th>App</th>\n",
              "      <th>Descriptions</th>\n",
              "      <th>Category</th>\n",
              "      <th>Rating</th>\n",
              "      <th>Reviews</th>\n",
              "      <th>Size</th>\n",
              "      <th>Installs</th>\n",
              "      <th>Type</th>\n",
              "      <th>Price</th>\n",
              "      <th>Content Rating</th>\n",
              "      <th>Genres</th>\n",
              "    </tr>\n",
              "  </thead>\n",
              "  <tbody>\n",
              "    <tr>\n",
              "      <th>0</th>\n",
              "      <td>Photo Editor &amp; Candy Camera &amp; Grid &amp; ScrapBook</td>\n",
              "      <td>Filters for photos and videos Beautification t...</td>\n",
              "      <td>ART_AND_DESIGN</td>\n",
              "      <td>4.1</td>\n",
              "      <td>159</td>\n",
              "      <td>19.0</td>\n",
              "      <td>10,000+</td>\n",
              "      <td>Free</td>\n",
              "      <td>0</td>\n",
              "      <td>Everyone</td>\n",
              "      <td>Art &amp; Design</td>\n",
              "    </tr>\n",
              "    <tr>\n",
              "      <th>1</th>\n",
              "      <td>Photo Editor &amp; Candy Camera &amp; Grid &amp; ScrapBook</td>\n",
              "      <td>Filters for photos and videos Beautification t...</td>\n",
              "      <td>ART_AND_DESIGN</td>\n",
              "      <td>4.1</td>\n",
              "      <td>159</td>\n",
              "      <td>19.0</td>\n",
              "      <td>10,000+</td>\n",
              "      <td>Free</td>\n",
              "      <td>0</td>\n",
              "      <td>Everyone</td>\n",
              "      <td>Art &amp; Design</td>\n",
              "    </tr>\n",
              "    <tr>\n",
              "      <th>2</th>\n",
              "      <td>Coloring book moana</td>\n",
              "      <td>Welcome this app for Coloring Book Encanto Car...</td>\n",
              "      <td>ART_AND_DESIGN</td>\n",
              "      <td>3.9</td>\n",
              "      <td>967</td>\n",
              "      <td>14.0</td>\n",
              "      <td>500,000+</td>\n",
              "      <td>Free</td>\n",
              "      <td>0</td>\n",
              "      <td>Everyone</td>\n",
              "      <td>Art &amp; Design;Pretend Play</td>\n",
              "    </tr>\n",
              "    <tr>\n",
              "      <th>3</th>\n",
              "      <td>Coloring book moana</td>\n",
              "      <td>Welcome this app for Coloring Book Encanto Car...</td>\n",
              "      <td>ART_AND_DESIGN</td>\n",
              "      <td>3.9</td>\n",
              "      <td>967</td>\n",
              "      <td>14.0</td>\n",
              "      <td>500,000+</td>\n",
              "      <td>Free</td>\n",
              "      <td>0</td>\n",
              "      <td>Everyone</td>\n",
              "      <td>Art &amp; Design;Pretend Play</td>\n",
              "    </tr>\n",
              "    <tr>\n",
              "      <th>4</th>\n",
              "      <td>U Launcher Lite – FREE Live Cool Themes, Hide ...</td>\n",
              "      <td>Android themes &amp; 4D Live wallpaper, Hide apps</td>\n",
              "      <td>ART_AND_DESIGN</td>\n",
              "      <td>4.7</td>\n",
              "      <td>87510</td>\n",
              "      <td>8.7</td>\n",
              "      <td>5,000,000+</td>\n",
              "      <td>Free</td>\n",
              "      <td>0</td>\n",
              "      <td>Everyone</td>\n",
              "      <td>Art &amp; Design</td>\n",
              "    </tr>\n",
              "    <tr>\n",
              "      <th>...</th>\n",
              "      <td>...</td>\n",
              "      <td>...</td>\n",
              "      <td>...</td>\n",
              "      <td>...</td>\n",
              "      <td>...</td>\n",
              "      <td>...</td>\n",
              "      <td>...</td>\n",
              "      <td>...</td>\n",
              "      <td>...</td>\n",
              "      <td>...</td>\n",
              "      <td>...</td>\n",
              "    </tr>\n",
              "    <tr>\n",
              "      <th>9786</th>\n",
              "      <td>Sya9a Maroc - FR</td>\n",
              "      <td>Moroccan driving licence tests en français and...</td>\n",
              "      <td>FAMILY</td>\n",
              "      <td>4.5</td>\n",
              "      <td>38</td>\n",
              "      <td>53.0</td>\n",
              "      <td>5,000+</td>\n",
              "      <td>Free</td>\n",
              "      <td>0</td>\n",
              "      <td>Everyone</td>\n",
              "      <td>Education</td>\n",
              "    </tr>\n",
              "    <tr>\n",
              "      <th>9787</th>\n",
              "      <td>Fr. Mike Schmitz Audio Teachings</td>\n",
              "      <td>Download and Listen Fr. Mike Schmitz Audio Mes...</td>\n",
              "      <td>FAMILY</td>\n",
              "      <td>5.0</td>\n",
              "      <td>4</td>\n",
              "      <td>3.6</td>\n",
              "      <td>100+</td>\n",
              "      <td>Free</td>\n",
              "      <td>0</td>\n",
              "      <td>Everyone</td>\n",
              "      <td>Education</td>\n",
              "    </tr>\n",
              "    <tr>\n",
              "      <th>9788</th>\n",
              "      <td>Parkinson Exercices FR</td>\n",
              "      <td>Home Exercises for people with Parkinson's dis...</td>\n",
              "      <td>MEDICAL</td>\n",
              "      <td>NaN</td>\n",
              "      <td>3</td>\n",
              "      <td>9.5</td>\n",
              "      <td>1,000+</td>\n",
              "      <td>Free</td>\n",
              "      <td>0</td>\n",
              "      <td>Everyone</td>\n",
              "      <td>Medical</td>\n",
              "    </tr>\n",
              "    <tr>\n",
              "      <th>9789</th>\n",
              "      <td>The SCP Foundation DB fr nn5n</td>\n",
              "      <td>SCP Foundation: Idle Manager is a game that si...</td>\n",
              "      <td>BOOKS_AND_REFERENCE</td>\n",
              "      <td>4.5</td>\n",
              "      <td>114</td>\n",
              "      <td>NaN</td>\n",
              "      <td>1,000+</td>\n",
              "      <td>Free</td>\n",
              "      <td>0</td>\n",
              "      <td>Mature 17+</td>\n",
              "      <td>Books &amp; Reference</td>\n",
              "    </tr>\n",
              "    <tr>\n",
              "      <th>9790</th>\n",
              "      <td>iHoroscope - 2018 Daily Horoscope &amp; Astrology</td>\n",
              "      <td>Daily Horoscope - the most popular horoscope a...</td>\n",
              "      <td>LIFESTYLE</td>\n",
              "      <td>4.5</td>\n",
              "      <td>398307</td>\n",
              "      <td>19.0</td>\n",
              "      <td>10,000,000+</td>\n",
              "      <td>Free</td>\n",
              "      <td>0</td>\n",
              "      <td>Everyone</td>\n",
              "      <td>Lifestyle</td>\n",
              "    </tr>\n",
              "  </tbody>\n",
              "</table>\n",
              "<p>9791 rows × 11 columns</p>\n",
              "</div>"
            ],
            "text/plain": [
              "                                                    App  \\\n",
              "0        Photo Editor & Candy Camera & Grid & ScrapBook   \n",
              "1        Photo Editor & Candy Camera & Grid & ScrapBook   \n",
              "2                                   Coloring book moana   \n",
              "3                                   Coloring book moana   \n",
              "4     U Launcher Lite – FREE Live Cool Themes, Hide ...   \n",
              "...                                                 ...   \n",
              "9786                                   Sya9a Maroc - FR   \n",
              "9787                   Fr. Mike Schmitz Audio Teachings   \n",
              "9788                             Parkinson Exercices FR   \n",
              "9789                      The SCP Foundation DB fr nn5n   \n",
              "9790      iHoroscope - 2018 Daily Horoscope & Astrology   \n",
              "\n",
              "                                           Descriptions             Category  \\\n",
              "0     Filters for photos and videos Beautification t...       ART_AND_DESIGN   \n",
              "1     Filters for photos and videos Beautification t...       ART_AND_DESIGN   \n",
              "2     Welcome this app for Coloring Book Encanto Car...       ART_AND_DESIGN   \n",
              "3     Welcome this app for Coloring Book Encanto Car...       ART_AND_DESIGN   \n",
              "4         Android themes & 4D Live wallpaper, Hide apps       ART_AND_DESIGN   \n",
              "...                                                 ...                  ...   \n",
              "9786  Moroccan driving licence tests en français and...               FAMILY   \n",
              "9787  Download and Listen Fr. Mike Schmitz Audio Mes...               FAMILY   \n",
              "9788  Home Exercises for people with Parkinson's dis...              MEDICAL   \n",
              "9789  SCP Foundation: Idle Manager is a game that si...  BOOKS_AND_REFERENCE   \n",
              "9790  Daily Horoscope - the most popular horoscope a...            LIFESTYLE   \n",
              "\n",
              "      Rating  Reviews  Size     Installs  Type Price Content Rating  \\\n",
              "0        4.1      159  19.0      10,000+  Free     0       Everyone   \n",
              "1        4.1      159  19.0      10,000+  Free     0       Everyone   \n",
              "2        3.9      967  14.0     500,000+  Free     0       Everyone   \n",
              "3        3.9      967  14.0     500,000+  Free     0       Everyone   \n",
              "4        4.7    87510   8.7   5,000,000+  Free     0       Everyone   \n",
              "...      ...      ...   ...          ...   ...   ...            ...   \n",
              "9786     4.5       38  53.0       5,000+  Free     0       Everyone   \n",
              "9787     5.0        4   3.6         100+  Free     0       Everyone   \n",
              "9788     NaN        3   9.5       1,000+  Free     0       Everyone   \n",
              "9789     4.5      114   NaN       1,000+  Free     0     Mature 17+   \n",
              "9790     4.5   398307  19.0  10,000,000+  Free     0       Everyone   \n",
              "\n",
              "                         Genres  \n",
              "0                  Art & Design  \n",
              "1                  Art & Design  \n",
              "2     Art & Design;Pretend Play  \n",
              "3     Art & Design;Pretend Play  \n",
              "4                  Art & Design  \n",
              "...                         ...  \n",
              "9786                  Education  \n",
              "9787                  Education  \n",
              "9788                    Medical  \n",
              "9789          Books & Reference  \n",
              "9790                  Lifestyle  \n",
              "\n",
              "[9791 rows x 11 columns]"
            ]
          },
          "execution_count": 13,
          "metadata": {},
          "output_type": "execute_result"
        }
      ],
      "source": [
        "# feature selection\n",
        "\n",
        "mergeDf = mergeDf[[ 'App', 'Descriptions', 'Category', 'Rating', 'Reviews', 'Size',\n",
        "       'Installs', 'Type', 'Price', 'Content Rating', 'Genres']]\n",
        "mergeDf"
      ]
    },
    {
      "attachments": {},
      "cell_type": "markdown",
      "metadata": {},
      "source": [
        "### Cleaning Dataset"
      ]
    },
    {
      "cell_type": "code",
      "execution_count": 14,
      "metadata": {},
      "outputs": [
        {
          "data": {
            "text/plain": [
              "App                  0\n",
              "Descriptions         0\n",
              "Category             0\n",
              "Rating            1468\n",
              "Reviews              0\n",
              "Size              1247\n",
              "Installs             0\n",
              "Type                 0\n",
              "Price                0\n",
              "Content Rating       0\n",
              "Genres               0\n",
              "dtype: int64"
            ]
          },
          "execution_count": 14,
          "metadata": {},
          "output_type": "execute_result"
        }
      ],
      "source": [
        "# checking for null values\n",
        "\n",
        "mergeDf.isnull().sum()\n"
      ]
    },
    {
      "attachments": {},
      "cell_type": "markdown",
      "metadata": {},
      "source": [
        "### pre-processing data values in the dataset\n"
      ]
    },
    {
      "cell_type": "code",
      "execution_count": 15,
      "metadata": {
        "colab": {
          "base_uri": "https://localhost:8080/",
          "height": 1000
        },
        "id": "PouZUhnPlyVU",
        "outputId": "ee988d7b-305c-4f19-c083-2188550a3c01"
      },
      "outputs": [
        {
          "data": {
            "text/html": [
              "<div>\n",
              "<style scoped>\n",
              "    .dataframe tbody tr th:only-of-type {\n",
              "        vertical-align: middle;\n",
              "    }\n",
              "\n",
              "    .dataframe tbody tr th {\n",
              "        vertical-align: top;\n",
              "    }\n",
              "\n",
              "    .dataframe thead th {\n",
              "        text-align: right;\n",
              "    }\n",
              "</style>\n",
              "<table border=\"1\" class=\"dataframe\">\n",
              "  <thead>\n",
              "    <tr style=\"text-align: right;\">\n",
              "      <th></th>\n",
              "      <th>App</th>\n",
              "      <th>Descriptions</th>\n",
              "      <th>Category</th>\n",
              "      <th>Rating</th>\n",
              "      <th>Reviews</th>\n",
              "      <th>Size</th>\n",
              "      <th>Installs</th>\n",
              "      <th>Type</th>\n",
              "      <th>Price</th>\n",
              "      <th>Content Rating</th>\n",
              "      <th>Genres</th>\n",
              "    </tr>\n",
              "  </thead>\n",
              "  <tbody>\n",
              "    <tr>\n",
              "      <th>0</th>\n",
              "      <td>Photo Editor &amp; Candy Camera &amp; Grid &amp; ScrapBook</td>\n",
              "      <td>Filters for photos and videos Beautification t...</td>\n",
              "      <td>ART_AND_DESIGN</td>\n",
              "      <td>4.1</td>\n",
              "      <td>159</td>\n",
              "      <td>19.0</td>\n",
              "      <td>10000</td>\n",
              "      <td>Free</td>\n",
              "      <td>0.0</td>\n",
              "      <td>Everyone</td>\n",
              "      <td>Art &amp; Design</td>\n",
              "    </tr>\n",
              "    <tr>\n",
              "      <th>1</th>\n",
              "      <td>Photo Editor &amp; Candy Camera &amp; Grid &amp; ScrapBook</td>\n",
              "      <td>Filters for photos and videos Beautification t...</td>\n",
              "      <td>ART_AND_DESIGN</td>\n",
              "      <td>4.1</td>\n",
              "      <td>159</td>\n",
              "      <td>19.0</td>\n",
              "      <td>10000</td>\n",
              "      <td>Free</td>\n",
              "      <td>0.0</td>\n",
              "      <td>Everyone</td>\n",
              "      <td>Art &amp; Design</td>\n",
              "    </tr>\n",
              "    <tr>\n",
              "      <th>2</th>\n",
              "      <td>Coloring book moana</td>\n",
              "      <td>Welcome this app for Coloring Book Encanto Car...</td>\n",
              "      <td>ART_AND_DESIGN</td>\n",
              "      <td>3.9</td>\n",
              "      <td>967</td>\n",
              "      <td>14.0</td>\n",
              "      <td>500000</td>\n",
              "      <td>Free</td>\n",
              "      <td>0.0</td>\n",
              "      <td>Everyone</td>\n",
              "      <td>Art &amp; Design;Pretend Play</td>\n",
              "    </tr>\n",
              "    <tr>\n",
              "      <th>3</th>\n",
              "      <td>Coloring book moana</td>\n",
              "      <td>Welcome this app for Coloring Book Encanto Car...</td>\n",
              "      <td>ART_AND_DESIGN</td>\n",
              "      <td>3.9</td>\n",
              "      <td>967</td>\n",
              "      <td>14.0</td>\n",
              "      <td>500000</td>\n",
              "      <td>Free</td>\n",
              "      <td>0.0</td>\n",
              "      <td>Everyone</td>\n",
              "      <td>Art &amp; Design;Pretend Play</td>\n",
              "    </tr>\n",
              "    <tr>\n",
              "      <th>4</th>\n",
              "      <td>U Launcher Lite – FREE Live Cool Themes, Hide ...</td>\n",
              "      <td>Android themes &amp; 4D Live wallpaper, Hide apps</td>\n",
              "      <td>ART_AND_DESIGN</td>\n",
              "      <td>4.7</td>\n",
              "      <td>87510</td>\n",
              "      <td>8.7</td>\n",
              "      <td>5000000</td>\n",
              "      <td>Free</td>\n",
              "      <td>0.0</td>\n",
              "      <td>Everyone</td>\n",
              "      <td>Art &amp; Design</td>\n",
              "    </tr>\n",
              "    <tr>\n",
              "      <th>...</th>\n",
              "      <td>...</td>\n",
              "      <td>...</td>\n",
              "      <td>...</td>\n",
              "      <td>...</td>\n",
              "      <td>...</td>\n",
              "      <td>...</td>\n",
              "      <td>...</td>\n",
              "      <td>...</td>\n",
              "      <td>...</td>\n",
              "      <td>...</td>\n",
              "      <td>...</td>\n",
              "    </tr>\n",
              "    <tr>\n",
              "      <th>9783</th>\n",
              "      <td>Chemin (fr)</td>\n",
              "      <td>Christian songs for praise and liturgical use ...</td>\n",
              "      <td>BOOKS_AND_REFERENCE</td>\n",
              "      <td>4.8</td>\n",
              "      <td>44</td>\n",
              "      <td>0.6</td>\n",
              "      <td>1000</td>\n",
              "      <td>Free</td>\n",
              "      <td>0.0</td>\n",
              "      <td>Everyone</td>\n",
              "      <td>Books &amp; Reference</td>\n",
              "    </tr>\n",
              "    <tr>\n",
              "      <th>9784</th>\n",
              "      <td>FR Calculator</td>\n",
              "      <td>The most intuitive feet / inch calculator</td>\n",
              "      <td>FAMILY</td>\n",
              "      <td>4.0</td>\n",
              "      <td>7</td>\n",
              "      <td>2.6</td>\n",
              "      <td>500</td>\n",
              "      <td>Free</td>\n",
              "      <td>0.0</td>\n",
              "      <td>Everyone</td>\n",
              "      <td>Education</td>\n",
              "    </tr>\n",
              "    <tr>\n",
              "      <th>9786</th>\n",
              "      <td>Sya9a Maroc - FR</td>\n",
              "      <td>Moroccan driving licence tests en français and...</td>\n",
              "      <td>FAMILY</td>\n",
              "      <td>4.5</td>\n",
              "      <td>38</td>\n",
              "      <td>53.0</td>\n",
              "      <td>5000</td>\n",
              "      <td>Free</td>\n",
              "      <td>0.0</td>\n",
              "      <td>Everyone</td>\n",
              "      <td>Education</td>\n",
              "    </tr>\n",
              "    <tr>\n",
              "      <th>9787</th>\n",
              "      <td>Fr. Mike Schmitz Audio Teachings</td>\n",
              "      <td>Download and Listen Fr. Mike Schmitz Audio Mes...</td>\n",
              "      <td>FAMILY</td>\n",
              "      <td>5.0</td>\n",
              "      <td>4</td>\n",
              "      <td>3.6</td>\n",
              "      <td>100</td>\n",
              "      <td>Free</td>\n",
              "      <td>0.0</td>\n",
              "      <td>Everyone</td>\n",
              "      <td>Education</td>\n",
              "    </tr>\n",
              "    <tr>\n",
              "      <th>9790</th>\n",
              "      <td>iHoroscope - 2018 Daily Horoscope &amp; Astrology</td>\n",
              "      <td>Daily Horoscope - the most popular horoscope a...</td>\n",
              "      <td>LIFESTYLE</td>\n",
              "      <td>4.5</td>\n",
              "      <td>398307</td>\n",
              "      <td>19.0</td>\n",
              "      <td>10000000</td>\n",
              "      <td>Free</td>\n",
              "      <td>0.0</td>\n",
              "      <td>Everyone</td>\n",
              "      <td>Lifestyle</td>\n",
              "    </tr>\n",
              "  </tbody>\n",
              "</table>\n",
              "<p>7134 rows × 11 columns</p>\n",
              "</div>"
            ],
            "text/plain": [
              "                                                    App  \\\n",
              "0        Photo Editor & Candy Camera & Grid & ScrapBook   \n",
              "1        Photo Editor & Candy Camera & Grid & ScrapBook   \n",
              "2                                   Coloring book moana   \n",
              "3                                   Coloring book moana   \n",
              "4     U Launcher Lite – FREE Live Cool Themes, Hide ...   \n",
              "...                                                 ...   \n",
              "9783                                        Chemin (fr)   \n",
              "9784                                      FR Calculator   \n",
              "9786                                   Sya9a Maroc - FR   \n",
              "9787                   Fr. Mike Schmitz Audio Teachings   \n",
              "9790      iHoroscope - 2018 Daily Horoscope & Astrology   \n",
              "\n",
              "                                           Descriptions             Category  \\\n",
              "0     Filters for photos and videos Beautification t...       ART_AND_DESIGN   \n",
              "1     Filters for photos and videos Beautification t...       ART_AND_DESIGN   \n",
              "2     Welcome this app for Coloring Book Encanto Car...       ART_AND_DESIGN   \n",
              "3     Welcome this app for Coloring Book Encanto Car...       ART_AND_DESIGN   \n",
              "4         Android themes & 4D Live wallpaper, Hide apps       ART_AND_DESIGN   \n",
              "...                                                 ...                  ...   \n",
              "9783  Christian songs for praise and liturgical use ...  BOOKS_AND_REFERENCE   \n",
              "9784          The most intuitive feet / inch calculator               FAMILY   \n",
              "9786  Moroccan driving licence tests en français and...               FAMILY   \n",
              "9787  Download and Listen Fr. Mike Schmitz Audio Mes...               FAMILY   \n",
              "9790  Daily Horoscope - the most popular horoscope a...            LIFESTYLE   \n",
              "\n",
              "      Rating  Reviews  Size  Installs  Type  Price Content Rating  \\\n",
              "0        4.1      159  19.0     10000  Free    0.0       Everyone   \n",
              "1        4.1      159  19.0     10000  Free    0.0       Everyone   \n",
              "2        3.9      967  14.0    500000  Free    0.0       Everyone   \n",
              "3        3.9      967  14.0    500000  Free    0.0       Everyone   \n",
              "4        4.7    87510   8.7   5000000  Free    0.0       Everyone   \n",
              "...      ...      ...   ...       ...   ...    ...            ...   \n",
              "9783     4.8       44   0.6      1000  Free    0.0       Everyone   \n",
              "9784     4.0        7   2.6       500  Free    0.0       Everyone   \n",
              "9786     4.5       38  53.0      5000  Free    0.0       Everyone   \n",
              "9787     5.0        4   3.6       100  Free    0.0       Everyone   \n",
              "9790     4.5   398307  19.0  10000000  Free    0.0       Everyone   \n",
              "\n",
              "                         Genres  \n",
              "0                  Art & Design  \n",
              "1                  Art & Design  \n",
              "2     Art & Design;Pretend Play  \n",
              "3     Art & Design;Pretend Play  \n",
              "4                  Art & Design  \n",
              "...                         ...  \n",
              "9783          Books & Reference  \n",
              "9784                  Education  \n",
              "9786                  Education  \n",
              "9787                  Education  \n",
              "9790                  Lifestyle  \n",
              "\n",
              "[7134 rows x 11 columns]"
            ]
          },
          "execution_count": 15,
          "metadata": {},
          "output_type": "execute_result"
        }
      ],
      "source": [
        "# dropping null values\n",
        "\n",
        "mergeDf.dropna(inplace=True)\n",
        "\n",
        "# pre-processing data values in the dataset\n",
        "mergeDf['Installs'] = [int(re.sub(\"[^\\d\\.]\", \"\", value)) for value in mergeDf['Installs']]\n",
        "mergeDf['Price'] = [float(re.sub(\"[^\\d\\.]\", \"\", value)) for value in mergeDf['Price']]\n",
        "mergeDf"
      ]
    },
    {
      "attachments": {},
      "cell_type": "markdown",
      "metadata": {},
      "source": [
        "### Hyperparameter Tuning"
      ]
    },
    {
      "cell_type": "code",
      "execution_count": 16,
      "metadata": {
        "id": "GV8GNY_z5eK9"
      },
      "outputs": [
        {
          "name": "stdout",
          "output_type": "stream",
          "text": [
            "Hyper parameter tuning : Start\n",
            "Hyper parameter tuning : End\n"
          ]
        }
      ],
      "source": [
        "param_grid = [{ 'clf__loss': ['hinge', 'log_loss', 'log',],\n",
        "                'clf__penalty': ['l2', 'l1'], \n",
        "                'clf__max_iter': [5,10,15],\n",
        "                'clf__alpha': [0.0001,0.1,1.0,5.0,10.0]\n",
        "                                         }]\n",
        "\n",
        "sgd = Pipeline([('vect', CountVectorizer()),\n",
        "                ('tfidf', TfidfTransformer()),\n",
        "                ('clf', SGDClassifier(random_state=42)),\n",
        "                ])\n",
        "\n",
        "print(\"Hyper parameter tuning : Start\")\n",
        "grid_classifier = GridSearchCV(sgd, param_grid , cv=2,scoring='accuracy', refit=True,)   \n",
        "grid_classifier.fit(mergeDf['Descriptions'], mergeDf['App'])\n",
        "\n",
        "print(\"Hyper parameter tuning : End\")\n"
      ]
    },
    {
      "cell_type": "code",
      "execution_count": 17,
      "metadata": {
        "colab": {
          "base_uri": "https://localhost:8080/"
        },
        "id": "ZRTEujZfxtCm",
        "outputId": "1692a454-562b-4db9-cc03-fc71499f734b"
      },
      "outputs": [
        {
          "name": "stdout",
          "output_type": "stream",
          "text": [
            "Efficient Hyper parameters : \n",
            "\t clf__alpha : 0.0001\n",
            "\t clf__loss : log_loss\n",
            "\t clf__max_iter : 10\n",
            "\t clf__penalty : l2\n"
          ]
        }
      ],
      "source": [
        "print(\"Efficient Hyper parameters : \")\n",
        "\n",
        "for param in grid_classifier.best_params_.keys():\n",
        "    print(f\"\\t {param} : {grid_classifier.best_params_[param]}\")\n",
        "\n"
      ]
    },
    {
      "attachments": {},
      "cell_type": "markdown",
      "metadata": {},
      "source": [
        "### creating training dataset \n"
      ]
    },
    {
      "cell_type": "code",
      "execution_count": 18,
      "metadata": {},
      "outputs": [
        {
          "name": "stdout",
          "output_type": "stream",
          "text": [
            "14268\n"
          ]
        }
      ],
      "source": [
        "\n",
        "x = list(mergeDf['Descriptions'])\n",
        "x = x + list(mergeDf['App'])\n",
        "\n",
        "# vectoring output features\n",
        "y = list(mergeDf['App'] +\"||\"+ mergeDf['Size'].astype(str) \\\n",
        "                +\"||\"+ mergeDf['Rating'].astype(str) \\\n",
        "                + \"||\"+mergeDf['Installs'].astype(str)\\\n",
        "                + \"||\"+mergeDf['Type'].astype(str) \\\n",
        "                + \"||\"+mergeDf['Price'].astype(str) \\\n",
        "                + \"||\"+mergeDf['Genres'].astype(str) \\\n",
        "                + \"||\"+mergeDf['Content Rating'].astype(str) \\\n",
        "                + \"||\" + mergeDf['Descriptions'].astype(str))\n",
        "y += y\n",
        "print(len(y))"
      ]
    },
    {
      "attachments": {},
      "cell_type": "markdown",
      "metadata": {},
      "source": [
        "### data transformation and model training pipeline\n"
      ]
    },
    {
      "cell_type": "code",
      "execution_count": 19,
      "metadata": {
        "colab": {
          "base_uri": "https://localhost:8080/"
        },
        "id": "ggZMvTI4TzoR",
        "outputId": "4694e13e-55b9-4a40-ad83-b665003fccd7"
      },
      "outputs": [
        {
          "data": {
            "text/plain": [
              "['Haircut Tutorials/Haircut Videos',\n",
              " '7.1',\n",
              " '4.6',\n",
              " '10000',\n",
              " 'Free',\n",
              " '0.0',\n",
              " 'Beauty',\n",
              " 'Everyone',\n",
              " 'Step by step hairstyles tutorials, hairstyles for girls, hairstyles videos']"
            ]
          },
          "execution_count": 19,
          "metadata": {},
          "output_type": "execute_result"
        }
      ],
      "source": [
        "# data transformation and model training pipeline\n",
        "\n",
        "sgd = Pipeline([('vect', CountVectorizer()), \n",
        "                ('tfidf', TfidfTransformer()), \n",
        "                ('clf', SGDClassifier(loss='log_loss', penalty='l2', alpha=0.0001, random_state=42, max_iter=10))\n",
        "                ])\n",
        "sgd.fit(x, y)\n",
        "\n",
        "y_pred_svm = sgd.predict([\"scp\"])\n",
        "y_pred_svm[0].split(\"||\")"
      ]
    },
    {
      "attachments": {},
      "cell_type": "markdown",
      "metadata": {},
      "source": [
        "### Saving trained model"
      ]
    },
    {
      "cell_type": "code",
      "execution_count": 20,
      "metadata": {
        "id": "IOoiWCfUUT4P"
      },
      "outputs": [],
      "source": [
        "pickle.dump(sgd,open( \"sgdModelMultiOut.p\", \"wb\" ))"
      ]
    },
    {
      "attachments": {},
      "cell_type": "markdown",
      "metadata": {},
      "source": [
        "### Testing Saved Model"
      ]
    },
    {
      "cell_type": "code",
      "execution_count": 20,
      "metadata": {
        "colab": {
          "base_uri": "https://localhost:8080/"
        },
        "id": "Zvo4cv9KbPtq",
        "outputId": "682a4770-ab6c-4328-cab7-86363dc394e1"
      },
      "outputs": [
        {
          "data": {
            "text/plain": [
              "['Canva: Poster, banner, card maker & graphic design',\n",
              " '24.0',\n",
              " '4.7',\n",
              " '10000000',\n",
              " 'Free',\n",
              " '0',\n",
              " 'Art & Design',\n",
              " 'Everyone',\n",
              " 'Your background remover, photo editor & video editor']"
            ]
          },
          "execution_count": 20,
          "metadata": {},
          "output_type": "execute_result"
        }
      ],
      "source": [
        "# loading saved model\n",
        "sgd = pickle.load(open(\"sgdModelMultiOut.p\",'rb'))\n",
        "\n",
        "# dummty input\n",
        "inputDescription = \"Canva \"\n",
        "y_pred_svm = sgd.predict([inputDescription])\n",
        "\n",
        "# classified output\n",
        "y_pred_svm[0].split(\"||\")"
      ]
    },
    {
      "attachments": {},
      "cell_type": "markdown",
      "metadata": {},
      "source": [
        "### Determining top similar apps"
      ]
    },
    {
      "cell_type": "code",
      "execution_count": 23,
      "metadata": {},
      "outputs": [
        {
          "name": "stdout",
          "output_type": "stream",
          "text": [
            "Similar apps to: Canva \n",
            "*****\n",
            "Canva: Poster, banner, card maker & graphic design||24.0||4.7||10000000||Free||0.0||Art & Design||Everyone||Your background remover, photo editor & video editor\n",
            " ***** \n",
            "Photo Editor & Candy Camera & Grid & ScrapBook||19.0||4.1||10000||Free||0.0||Art & Design||Everyone||Filters for photos and videos Beautification tools for flawless selfies\n",
            " ***** \n",
            "Coloring book moana||14.0||3.9||500000||Free||0.0||Art & Design;Pretend Play||Everyone||Welcome this app for Coloring Book Encanto Cartoon\n",
            " ***** \n",
            "U Launcher Lite – FREE Live Cool Themes, Hide Apps||8.7||4.7||5000000||Free||0.0||Art & Design||Everyone||Android themes & 4D Live wallpaper, Hide apps\n",
            " ***** \n",
            "Sketch - Draw & Paint||25.0||4.5||50000000||Free||0.0||Art & Design||Teen||Sketch and paint on your device with the feel and freedom of drawing on paper\n"
          ]
        }
      ],
      "source": [
        "actual_intent = inputDescription\n",
        "\n",
        "WORD = re.compile(r\"\\w+\")\n",
        "\n",
        "def text_to_vector(text):\n",
        "    words = WORD.findall(text)\n",
        "    return Counter(words)\n",
        "\n",
        "def get_cosine(vec1, vec2):\n",
        "    intersection = set(vec1.keys()) & set(vec2.keys())\n",
        "    numerator = sum([vec1[x] * vec2[x] for x in intersection])\n",
        "\n",
        "    sum1 = sum([vec1[x] ** 2 for x in list(vec1.keys())])\n",
        "    sum2 = sum([vec2[x] ** 2 for x in list(vec2.keys())])\n",
        "    denominator = math.sqrt(sum1) * math.sqrt(sum2)\n",
        "\n",
        "    if not denominator:\n",
        "        return 0.0\n",
        "    else:\n",
        "        return float(numerator) / denominator\n",
        "\n",
        "similarity_score_list = []\n",
        "similarity_checked_utterance = []\n",
        "similarity_checked_output = []\n",
        "for utterance in x:\n",
        "    # print(utterance)\n",
        "    text1 = actual_intent\n",
        "    text2 = utterance\n",
        "\n",
        "    vector1 = text_to_vector(text1)\n",
        "    vector2 = text_to_vector(text2)\n",
        "\n",
        "    cosine_value = get_cosine(vector1, vector2)\n",
        "\n",
        "    similarity_score_list.append(cosine_value)\n",
        "    similarity_checked_utterance.append([cosine_value, utterance])\n",
        "similarity_score_list_temp = similarity_score_list.copy()\n",
        "similarity_score_list.sort(reverse=True)\n",
        "similarity_checked_output_temp = []\n",
        "count = 0\n",
        "\n",
        "for _ in range(len(similarity_score_list)):\n",
        "    if count <= 5:\n",
        "        for utt in similarity_checked_utterance:\n",
        "            if utt[0] == similarity_score_list_temp[similarity_score_list_temp.index(similarity_score_list[_])] and utt[1] not in similarity_checked_output_temp:\n",
        "                similarity_checked_output_temp.append(utt[1])\n",
        "                count += 1\n",
        "    \n",
        "for utt in similarity_checked_output_temp:\n",
        "    if y[x.index(utt)] not in similarity_checked_output:\n",
        "        similarity_checked_output.append(\n",
        "            y[x.index(utt)])\n",
        "\n",
        "print(\"Similar apps to: \"+inputDescription)\n",
        "print(\"*\"*5)\n",
        "print(\"\\n ***** \\n\".join(similarity_checked_output[:5]))"
      ]
    },
    {
      "attachments": {},
      "cell_type": "markdown",
      "metadata": {},
      "source": [
        "### References\n",
        "\n",
        "-  https://stackoverflow.com/questions/37161563/how-to-graph-grid-scores-from-gridsearchcv\n"
      ]
    }
  ],
  "metadata": {
    "accelerator": "GPU",
    "colab": {
      "provenance": []
    },
    "gpuClass": "standard",
    "kernelspec": {
      "display_name": "Python 3",
      "language": "python",
      "name": "python3"
    },
    "language_info": {
      "codemirror_mode": {
        "name": "ipython",
        "version": 3
      },
      "file_extension": ".py",
      "mimetype": "text/x-python",
      "name": "python",
      "nbconvert_exporter": "python",
      "pygments_lexer": "ipython3",
      "version": "3.9.7"
    },
    "vscode": {
      "interpreter": {
        "hash": "770961a30b4f9bf0fdfbc9d16a75ee17e345e1590ed7877a7311b36ba5270460"
      }
    }
  },
  "nbformat": 4,
  "nbformat_minor": 0
}
